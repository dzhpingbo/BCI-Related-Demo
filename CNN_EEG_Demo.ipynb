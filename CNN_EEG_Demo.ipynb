{
 "cells": [
  {
   "cell_type": "markdown",
   "metadata": {},
   "source": [
    "# 读取图片"
   ]
  },
  {
   "cell_type": "code",
   "execution_count": 164,
   "metadata": {},
   "outputs": [],
   "source": [
    "import matplotlib.pyplot as plt  \n",
    "import tensorflow as tf  \n",
    "import numpy as np  \n",
    "import os, sys\n",
    "import math"
   ]
  },
  {
   "cell_type": "markdown",
   "metadata": {},
   "source": [
    "### 返回的是两个list，一个是文件路径，一个是标签"
   ]
  },
  {
   "cell_type": "code",
   "execution_count": 165,
   "metadata": {},
   "outputs": [],
   "source": [
    "def get_files(path):\n",
    "    class_train = []\n",
    "    label_train = []\n",
    "    for train_class in os.listdir(path):\n",
    "        for pic in os.listdir(path+train_class):\n",
    "            class_train.append(path+train_class+'/'+pic) #class_train获得的是文件的的list“路径+类型+文件名”\n",
    "            label_train.append(train_class)                 #label_train获得的是分类class的list “left/right”\n",
    "    temp = np.array([class_train,label_train])  # 2*140\n",
    "    #print(temp.shape)\n",
    "    temp = temp.transpose()  # 140*2\n",
    "    #打乱顺序\n",
    "    np.random.shuffle(temp)\n",
    "    #第一列是image，第二列是label\n",
    "    image_list = list(temp[:,0])\n",
    "    label_list = list(temp[:,1])\n",
    "    label_list = [int(i) for i in label_list]\n",
    "    #print(label_list)\n",
    "    return image_list,label_list"
   ]
  },
  {
   "cell_type": "code",
   "execution_count": 166,
   "metadata": {},
   "outputs": [],
   "source": [
    "# 打开文件\n",
    "path = \"C:/Users/DELL/Desktop/EEG_cwt/\"\n",
    "image_list,label_list=get_files(path)"
   ]
  },
  {
   "cell_type": "code",
   "execution_count": 192,
   "metadata": {},
   "outputs": [],
   "source": [
    "#image_list[0:5]\n",
    "#label_list[0:5]"
   ]
  },
  {
   "cell_type": "markdown",
   "metadata": {},
   "source": [
    "## 生成X\n",
    "### 将图片调整到统一大小"
   ]
  },
  {
   "cell_type": "code",
   "execution_count": 169,
   "metadata": {},
   "outputs": [],
   "source": [
    "X=np.empty([140,64,64,3], dtype=int)"
   ]
  },
  {
   "cell_type": "code",
   "execution_count": 170,
   "metadata": {},
   "outputs": [],
   "source": [
    "with tf.Session() as sess: \n",
    "    for i in range(140):\n",
    "        image_raw_data = tf.gfile.GFile(image_list[i],'r').read() \n",
    "        img_data = tf.image.decode_jpeg(image_raw_data)  \n",
    "        \n",
    "        #第一个参数为原始图像，第二个参数为图像大小，第三个参数给出了指定的算法  \n",
    "        resized = tf.image.resize_images(img_data, [64,64],method=0)  \n",
    "        resized = np.asarray(resized.eval(),dtype='uint8') \n",
    "        X[i,:,:,:]=resized \n",
    "        "
   ]
  },
  {
   "cell_type": "markdown",
   "metadata": {},
   "source": [
    "### X_train  /  X_test"
   ]
  },
  {
   "cell_type": "code",
   "execution_count": 172,
   "metadata": {},
   "outputs": [],
   "source": [
    "X_train=X[0:90,:,:,:]\n",
    "X_test=X[90:140,:,:,:]"
   ]
  },
  {
   "cell_type": "markdown",
   "metadata": {},
   "source": [
    "## 生成Y"
   ]
  },
  {
   "cell_type": "code",
   "execution_count": 201,
   "metadata": {
    "scrolled": false
   },
   "outputs": [],
   "source": [
    "Y=np.array(label_list)-1\n",
    "Y=Y.reshape([140,1])"
   ]
  },
  {
   "cell_type": "markdown",
   "metadata": {},
   "source": [
    "### 将标签编码"
   ]
  },
  {
   "cell_type": "code",
   "execution_count": 202,
   "metadata": {},
   "outputs": [],
   "source": [
    "oh = tf.one_hot(Y, depth = 2,  on_value = 1 , off_value = 0, axis = -1)\n",
    "sess = tf.Session()\n",
    "Y=sess.run(oh)\n",
    "sess.close()"
   ]
  },
  {
   "cell_type": "code",
   "execution_count": 203,
   "metadata": {},
   "outputs": [],
   "source": [
    "Y=Y.reshape([140,2])"
   ]
  },
  {
   "cell_type": "markdown",
   "metadata": {},
   "source": [
    "### Y_train  /  Y_test"
   ]
  },
  {
   "cell_type": "code",
   "execution_count": 204,
   "metadata": {},
   "outputs": [],
   "source": [
    "Y_train=Y[0:90,:]\n",
    "Y_test=Y[90:140,:]"
   ]
  },
  {
   "cell_type": "code",
   "execution_count": 205,
   "metadata": {},
   "outputs": [
    {
     "name": "stdout",
     "output_type": "stream",
     "text": [
      "number of training examples = 90\n",
      "number of test examples = 50\n",
      "X_train shape: (90, 64, 64, 3)\n",
      "Y_train shape: (90, 2)\n",
      "X_test shape: (50, 64, 64, 3)\n",
      "Y_test shape: (50, 2)\n"
     ]
    }
   ],
   "source": [
    "X_train = X_train/255.\n",
    "X_test = X_test/255.\n",
    "#Y_train = convert_to_one_hot(Y_train_orig, 6).T\n",
    "#Y_test = convert_to_one_hot(Y_test_orig, 6).T\n",
    "print (\"number of training examples = \" + str(X_train.shape[0]))\n",
    "print (\"number of test examples = \" + str(X_test.shape[0]))\n",
    "print (\"X_train shape: \" + str(X_train.shape))\n",
    "print (\"Y_train shape: \" + str(Y_train.shape))\n",
    "print (\"X_test shape: \" + str(X_test.shape))\n",
    "print (\"Y_test shape: \" + str(Y_test.shape))\n",
    "#conv_layers = {}"
   ]
  },
  {
   "cell_type": "markdown",
   "metadata": {},
   "source": [
    "#### 生成placeholder"
   ]
  },
  {
   "cell_type": "code",
   "execution_count": 208,
   "metadata": {},
   "outputs": [],
   "source": [
    "def create_placeholders(n_H0, n_W0, n_C0, n_y):\n",
    "    \"\"\"   \n",
    "    Arguments:\n",
    "    n_H0 -- 标量，输入图像的高度\n",
    "    n_W0 -- 标量，输入图像的宽度\n",
    "    n_C0 -- 标量，输入的通道数\n",
    "    n_y  -- 标量，类别数目\n",
    "        \n",
    "    Returns:\n",
    "    X -- 特征的placeholder, [None, n_H0, n_W0, n_C0] ,类型 \"float\"\n",
    "    Y -- 标签的placeholder, [None, n_y] ，类型 \"float\"\n",
    "    \"\"\"\n",
    "    X = tf.placeholder(tf.float32,shape=(None,n_H0,n_W0,n_C0))\n",
    "    Y = tf.placeholder(tf.float32,shape=(None,n_y))\n",
    "    \n",
    "    return X, Y"
   ]
  },
  {
   "cell_type": "markdown",
   "metadata": {},
   "source": [
    "#### 初始化参数"
   ]
  },
  {
   "cell_type": "code",
   "execution_count": 209,
   "metadata": {},
   "outputs": [],
   "source": [
    "def initialize_parameters():\n",
    "    \"\"\"\n",
    "                        W1 : [4, 4, 3, 8]\n",
    "                        W2 : [2, 2, 8, 16]   \n",
    "   \"\"\"                                      \n",
    "    W1 = tf.get_variable('W1',shape=(4,4,3,8),initializer=tf.contrib.layers.xavier_initializer(seed = 0))\n",
    "    W2 = tf.get_variable('W2',shape=(2,2,8,16),initializer=tf.contrib.layers.xavier_initializer(seed = 0))\n",
    "\n",
    "    parameters = {\"W1\": W1,\n",
    "                  \"W2\": W2}\n",
    "    \n",
    "    return parameters"
   ]
  },
  {
   "cell_type": "code",
   "execution_count": 210,
   "metadata": {},
   "outputs": [
    {
     "name": "stdout",
     "output_type": "stream",
     "text": [
      "W1 = [-0.0752826   0.08046506 -0.18115364  0.01793462 -0.11417466 -0.15131985\n",
      " -0.1336818  -0.06460937]\n",
      "W2 = [ 0.18771225  0.02089775  0.00491112 -0.12298661 -0.04200333  0.13979024\n",
      "  0.05375856 -0.10530782 -0.15856427  0.19796973  0.04295498 -0.0471608\n",
      "  0.01342118  0.21189791  0.1855194  -0.13519925]\n"
     ]
    }
   ],
   "source": [
    "tf.reset_default_graph()\n",
    "with tf.Session() as sess_test:\n",
    "    parameters = initialize_parameters()\n",
    "    init = tf.global_variables_initializer()\n",
    "    sess_test.run(init)\n",
    "    print(\"W1 = \" + str(parameters[\"W1\"].eval()[1,1,1]))\n",
    "    print(\"W2 = \" + str(parameters[\"W2\"].eval()[1,1,1]))"
   ]
  },
  {
   "cell_type": "markdown",
   "metadata": {},
   "source": [
    "#### 前向传播"
   ]
  },
  {
   "cell_type": "code",
   "execution_count": 211,
   "metadata": {},
   "outputs": [],
   "source": [
    "def forward_propagation(X, parameters):\n",
    "    \"\"\"\n",
    "    前向传播过程\n",
    "    CONV2D -> RELU -> MAXPOOL -> CONV2D -> RELU -> MAXPOOL -> FLATTEN -> FULLYCONNECTED\n",
    "    \n",
    "    Arguments:\n",
    "    X -- 输入 placeholder, (input size, number of examples)\n",
    "    parameters -- \"W1\", \"W2\"\n",
    "\n",
    "    Returns:\n",
    "    Z3 -- the output of the last LINEAR unit\n",
    "    \"\"\"\n",
    "    W1 = parameters['W1']\n",
    "    W2 = parameters['W2']\n",
    "    \n",
    "    #第一个参数input：指需要做卷积的输入图像，具有[batch, in_height, in_width, in_channels]这样的shape，\n",
    "    #具体含义是[训练时一个batch的图片数量, 图片高度, 图片宽度, 图像通道数]，\n",
    "    #注意这是一个4维的Tensor，要求类型为float32和float64其中之一\n",
    "    Z1 = tf.nn.conv2d(X,W1, strides = [1,1,1,1], padding = 'SAME')\n",
    "    # RELU\n",
    "    A1 = tf.nn.relu(Z1)\n",
    "    # MAXPOOL: window 8x8, sride 8, padding 'SAME'\n",
    "    P1 = tf.nn.max_pool(A1, ksize = [1,8,8,1], strides = [1,8,8,1], padding = 'SAME')\n",
    "    \n",
    "    # CONV2D: filters W2, stride 1, padding 'SAME'\n",
    "    Z2 = tf.nn.conv2d(P1,W2, strides = [1,1,1,1], padding = 'SAME')\n",
    "    # RELU\n",
    "    A2 = tf.nn.relu(Z2)\n",
    "    # MAXPOOL: window 4x4, stride 4, padding 'SAME'\n",
    "    P2 = tf.nn.max_pool(A2, ksize = [1,4,4,1], strides = [1,4,4,1], padding = 'SAME')\n",
    "    \n",
    "    # FLATTEN\n",
    "    P2 = tf.contrib.layers.flatten(P2)\n",
    "    \n",
    "    # 2个输出单元（2分类）\n",
    "    Z3 = tf.contrib.layers.fully_connected(P2, num_outputs=2,activation_fn=None)\n",
    "    \n",
    "    return Z3"
   ]
  },
  {
   "cell_type": "markdown",
   "metadata": {},
   "source": [
    "#### 获得梯度下降的minibatch"
   ]
  },
  {
   "cell_type": "code",
   "execution_count": 212,
   "metadata": {},
   "outputs": [],
   "source": [
    "    def random_mini_batches(X, Y, mini_batch_size =10, seed = 0): \n",
    "        m = X.shape[0]                  # number of training examples \n",
    "        mini_batches = [] \n",
    "        np.random.seed(seed) \n",
    "        #Y=Y.T         #(1080,6) \n",
    "        # Step 1: Shuffle (X, Y) \n",
    "        permutation = list(np.random.permutation(m))   #从0到m打乱的序列\n",
    "        shuffled_X = X[permutation,:,:,:] \n",
    "        shuffled_Y = Y[permutation,:]#.reshape((m,Y.shape[1])) \n",
    "     \n",
    "        # Step 2: Partition (shuffled_X, shuffled_Y). Minus the end case. \n",
    "        num_complete_minibatches = math.floor(m/mini_batch_size) # number of mini batches of size mini_batch_size in your partitionning \n",
    "        for k in range(0, num_complete_minibatches): \n",
    "            mini_batch_X = shuffled_X[k * mini_batch_size : k * mini_batch_size + mini_batch_size,:,:,:] \n",
    "            mini_batch_Y = shuffled_Y[k * mini_batch_size : k * mini_batch_size + mini_batch_size,:] \n",
    "            mini_batch = (mini_batch_X, mini_batch_Y) \n",
    "            mini_batches.append(mini_batch) \n",
    "         \n",
    "        # Handling the end case (last mini-batch < mini_batch_size) \n",
    "        if m % mini_batch_size != 0: \n",
    "            mini_batch_X = shuffled_X[num_complete_minibatches * mini_batch_size : m,:,:,:] \n",
    "            mini_batch_Y = shuffled_Y[num_complete_minibatches * mini_batch_size : m,:] \n",
    "            mini_batch = (mini_batch_X, mini_batch_Y) \n",
    "            mini_batches.append(mini_batch) \n",
    "         \n",
    "        return mini_batches"
   ]
  },
  {
   "cell_type": "code",
   "execution_count": 216,
   "metadata": {},
   "outputs": [],
   "source": [
    "import math\n",
    "mini_batches=random_mini_batches(X_train, Y_train, mini_batch_size = 5, seed = 0)"
   ]
  },
  {
   "cell_type": "code",
   "execution_count": 217,
   "metadata": {},
   "outputs": [
    {
     "data": {
      "text/plain": [
       "18"
      ]
     },
     "execution_count": 217,
     "metadata": {},
     "output_type": "execute_result"
    }
   ],
   "source": [
    "len(mini_batches)"
   ]
  },
  {
   "cell_type": "markdown",
   "metadata": {},
   "source": [
    "### 计算代价"
   ]
  },
  {
   "cell_type": "code",
   "execution_count": 218,
   "metadata": {},
   "outputs": [],
   "source": [
    "def compute_cost(Z3, Y):\n",
    "    \"\"\"    \n",
    "    Arguments:\n",
    "    Z3 -- (6, number of examples)\n",
    "    Y -- 真实标签\n",
    "    \n",
    "    Returns:\n",
    "    cost - Tensor of the cost function\n",
    "    \"\"\"\n",
    "    \n",
    "    ### START CODE HERE ### (1 line of code)\n",
    "    cost = tf.reduce_mean(tf.nn.softmax_cross_entropy_with_logits(logits = Z3, labels = Y))\n",
    "    ### END CODE HERE ###\n",
    "    \n",
    "    return cost"
   ]
  },
  {
   "cell_type": "markdown",
   "metadata": {},
   "source": [
    "## 组织模型"
   ]
  },
  {
   "cell_type": "code",
   "execution_count": 239,
   "metadata": {},
   "outputs": [],
   "source": [
    "def model(X_train, Y_train, X_test, Y_test, learning_rate = 0.009,\n",
    "          num_epochs = 300, minibatch_size = 8, print_cost = True):\n",
    "    \"\"\"\n",
    "    Implements a three-layer ConvNet in Tensorflow:\n",
    "    CONV2D -> RELU -> MAXPOOL -> CONV2D -> RELU -> MAXPOOL -> FLATTEN -> FULLYCONNECTED\n",
    "    \n",
    "    Arguments:\n",
    "    X_train -- training set, of shape (None, 64, 64, 3)\n",
    "    Y_train -- test set, of shape (None, n_y = 6)\n",
    "    X_test -- training set, of shape (None, 64, 64, 3)\n",
    "    Y_test -- test set, of shape (None, n_y = 6)\n",
    "    learning_rate -- learning rate of the optimization\n",
    "    num_epochs -- number of epochs of the optimization loop\n",
    "    minibatch_size -- size of a minibatch\n",
    "    print_cost -- True to print the cost every 100 epochs\n",
    "    \n",
    "    Returns:\n",
    "    train_accuracy -- real number, accuracy on the train set (X_train)\n",
    "    test_accuracy -- real number, testing accuracy on the test set (X_test)\n",
    "    parameters -- parameters learnt by the model. They can then be used to predict.\n",
    "    \"\"\"\n",
    "    \n",
    "    ops.reset_default_graph()                         # to be able to rerun the model without overwriting tf variables\n",
    "    tf.set_random_seed(1)                             # to keep results consistent (tensorflow seed)\n",
    "    seed = 3                                          # to keep results consistent (numpy seed)\n",
    "    (m, n_H0, n_W0, n_C0) = X_train.shape             \n",
    "    n_y = Y_train.shape[1]                            \n",
    "    costs = []                                        # To keep track of the cost\n",
    "    \n",
    "    # Create Placeholders of the correct shape\n",
    "    ### START CODE HERE ### (1 line)\n",
    "    X, Y = create_placeholders(64, 64, 3, 2)\n",
    "    ### END CODE HERE ###\n",
    "\n",
    "    # Initialize parameters\n",
    "    ### START CODE HERE ### (1 line)\n",
    "    parameters = initialize_parameters()\n",
    "    ### END CODE HERE ###\n",
    "    \n",
    "    # Forward propagation: Build the forward propagation in the tensorflow graph\n",
    "    ### START CODE HERE ### (1 line)\n",
    "    Z3 = forward_propagation(X, parameters)\n",
    "    ### END CODE HERE ###\n",
    "    \n",
    "    # Cost function: Add cost function to tensorflow graph\n",
    "    ### START CODE HERE ### (1 line)\n",
    "    cost = compute_cost(Z3, Y)\n",
    "    ### END CODE HERE ###\n",
    "    \n",
    "    # Backpropagation: Define the tensorflow optimizer. Use an AdamOptimizer that minimizes the cost.\n",
    "    ### START CODE HERE ### (1 line)\n",
    "    optimizer = tf.train.AdamOptimizer(learning_rate).minimize(cost)\n",
    "    ### END CODE HERE ###\n",
    "    \n",
    "    # Initialize all the variables globally\n",
    "    init = tf.global_variables_initializer()\n",
    "     \n",
    "    # Start the session to compute the tensorflow graph\n",
    "    with tf.Session() as sess:\n",
    "        \n",
    "        # Run the initialization\n",
    "        sess.run(init)\n",
    "        \n",
    "        # Do the training loop\n",
    "        for epoch in range(num_epochs):\n",
    "\n",
    "            minibatch_cost = 0.\n",
    "            num_minibatches = int(m / minibatch_size) # number of minibatches of size minibatch_size in the train set\n",
    "            seed = seed + 1\n",
    "            minibatches = random_mini_batches(X_train, Y_train, minibatch_size, seed)\n",
    "\n",
    "            for minibatch in minibatches:\n",
    "\n",
    "                # Select a minibatch\n",
    "                (minibatch_X, minibatch_Y) = minibatch\n",
    "                # IMPORTANT: The line that runs the graph on a minibatch.\n",
    "                # Run the session to execute the optimizer and the cost, the feedict should contain a minibatch for (X,Y).\n",
    "                ### START CODE HERE ### (1 line)\n",
    "                _ , temp_cost = sess.run([optimizer, cost] , feed_dict={X: minibatch_X, Y: minibatch_Y})\n",
    "                ### END CODE HERE ###\n",
    "                \n",
    "                minibatch_cost += temp_cost / num_minibatches\n",
    "                \n",
    "\n",
    "            # Print the cost every epoch\n",
    "            if print_cost == True and epoch % 5 == 0:\n",
    "                print (\"Cost after epoch %i: %f\" % (epoch, minibatch_cost))\n",
    "            if print_cost == True and epoch % 1 == 0:\n",
    "                costs.append(minibatch_cost)\n",
    "        \n",
    "        \n",
    "        # plot the cost\n",
    "        plt.plot(np.squeeze(costs))\n",
    "        plt.ylabel('cost')\n",
    "        plt.xlabel('iterations (per tens)')\n",
    "        plt.title(\"Learning rate =\" + str(learning_rate))\n",
    "        plt.show()\n",
    "\n",
    "        # Calculate the correct predictions\n",
    "        predict_op = tf.argmax(Z3, 1)\n",
    "        correct_prediction = tf.equal(predict_op, tf.argmax(Y, 1))\n",
    "        \n",
    "        # Calculate accuracy on the test set\n",
    "        accuracy = tf.reduce_mean(tf.cast(correct_prediction, \"float\"))\n",
    "        print(accuracy)\n",
    "        train_accuracy = accuracy.eval({X: X_train, Y: Y_train})\n",
    "        test_accuracy = accuracy.eval({X: X_test, Y: Y_test})\n",
    "        print(\"Train Accuracy:\", train_accuracy)\n",
    "        print(\"Test Accuracy:\", test_accuracy)\n",
    "                \n",
    "        return train_accuracy, test_accuracy, parameters"
   ]
  },
  {
   "cell_type": "markdown",
   "metadata": {},
   "source": [
    "## 训练"
   ]
  },
  {
   "cell_type": "code",
   "execution_count": 240,
   "metadata": {},
   "outputs": [
    {
     "name": "stdout",
     "output_type": "stream",
     "text": [
      "Cost after epoch 0: 0.758663\n",
      "Cost after epoch 5: 0.756442\n",
      "Cost after epoch 10: 0.754578\n",
      "Cost after epoch 15: 0.741233\n",
      "Cost after epoch 20: 0.716164\n",
      "Cost after epoch 25: 0.677490\n",
      "Cost after epoch 30: 0.645406\n",
      "Cost after epoch 35: 0.580447\n",
      "Cost after epoch 40: 0.544644\n",
      "Cost after epoch 45: 0.542436\n",
      "Cost after epoch 50: 0.524556\n",
      "Cost after epoch 55: 0.499241\n",
      "Cost after epoch 60: 0.483994\n",
      "Cost after epoch 65: 0.451545\n",
      "Cost after epoch 70: 0.446414\n",
      "Cost after epoch 75: 0.450028\n",
      "Cost after epoch 80: 0.448721\n",
      "Cost after epoch 85: 0.433235\n",
      "Cost after epoch 90: 0.395610\n",
      "Cost after epoch 95: 0.401371\n",
      "Cost after epoch 100: 0.368835\n",
      "Cost after epoch 105: 0.414434\n",
      "Cost after epoch 110: 0.371673\n",
      "Cost after epoch 115: 0.329650\n",
      "Cost after epoch 120: 0.330940\n",
      "Cost after epoch 125: 0.318260\n",
      "Cost after epoch 130: 0.340229\n",
      "Cost after epoch 135: 0.334510\n",
      "Cost after epoch 140: 0.291291\n",
      "Cost after epoch 145: 0.299233\n",
      "Cost after epoch 150: 0.279465\n",
      "Cost after epoch 155: 0.281213\n",
      "Cost after epoch 160: 0.279132\n",
      "Cost after epoch 165: 0.268262\n",
      "Cost after epoch 170: 0.293091\n",
      "Cost after epoch 175: 0.263390\n",
      "Cost after epoch 180: 0.245818\n",
      "Cost after epoch 185: 0.255220\n",
      "Cost after epoch 190: 0.232413\n",
      "Cost after epoch 195: 0.228585\n",
      "Cost after epoch 200: 0.262873\n",
      "Cost after epoch 205: 0.237454\n",
      "Cost after epoch 210: 0.219477\n",
      "Cost after epoch 215: 0.218845\n",
      "Cost after epoch 220: 0.216363\n",
      "Cost after epoch 225: 0.213847\n",
      "Cost after epoch 230: 0.216737\n",
      "Cost after epoch 235: 0.194469\n",
      "Cost after epoch 240: 0.235514\n",
      "Cost after epoch 245: 0.189834\n",
      "Cost after epoch 250: 0.204217\n",
      "Cost after epoch 255: 0.181759\n",
      "Cost after epoch 260: 0.181191\n",
      "Cost after epoch 265: 0.175006\n",
      "Cost after epoch 270: 0.181928\n",
      "Cost after epoch 275: 0.170937\n",
      "Cost after epoch 280: 0.166432\n",
      "Cost after epoch 285: 0.162556\n",
      "Cost after epoch 290: 0.174841\n",
      "Cost after epoch 295: 0.193669\n"
     ]
    },
    {
     "data": {
      "image/png": "[encoded data removed]",
      "text/plain": [
       "<Figure size 432x288 with 1 Axes>"
      ]
     },
     "metadata": {},
     "output_type": "display_data"
    },
    {
     "name": "stdout",
     "output_type": "stream",
     "text": [
      "Tensor(\"Mean_1:0\", shape=(), dtype=float32)\n",
      "Train Accuracy: 0.9444444\n",
      "Test Accuracy: 0.86\n"
     ]
    }
   ],
   "source": [
    "_, _, parameters = model(X_train, Y_train, X_test, Y_test)"
   ]
  },
  {
   "cell_type": "code",
   "execution_count": null,
   "metadata": {},
   "outputs": [],
   "source": []
  }
 ],
 "metadata": {
  "kernelspec": {
   "display_name": "Python 3",
   "language": "python",
   "name": "python3"
  },
  "language_info": {
   "codemirror_mode": {
    "name": "ipython",
    "version": 3
   },
   "file_extension": ".py",
   "mimetype": "text/x-python",
   "name": "python",
   "nbconvert_exporter": "python",
   "pygments_lexer": "ipython3",
   "version": "3.5.5"
  }
 },
 "nbformat": 4,
 "nbformat_minor": 2
}
